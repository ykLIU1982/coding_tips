{
 "cells": [
  {
   "cell_type": "markdown",
   "metadata": {},
   "source": [
    "# Data Science Study Resources\n",
    "Developed by: Yongkang Liu (yongkang.liu.phd@gmail.com)  \n",
    "Created on October 7, 2019.  \n",
    "Updated on October 7, 2019.\n",
    "\n",
    "Data is in the center of modern STEM applications. \n",
    "\n",
    "This notebook maintains a collection of materials and references to study data science.\n"
   ]
  },
  {
   "cell_type": "markdown",
   "metadata": {},
   "source": [
    "<a name=\"toc\"></a>\n",
    "# Table of contents\n",
    "\n",
    "1. [Tutorials and references](#tut_ref)\n",
    "\n",
    "1. [Tools](#tool)\n",
    "    1. [Python General](#tool.python)\n",
    "\n",
    "1. [End: To add a new section](#end)\n"
   ]
  },
  {
   "cell_type": "markdown",
   "metadata": {},
   "source": [
    "<a name=\"tut_ref\"></a>\n",
    "# Tutorials and Reference"
   ]
  },
  {
   "cell_type": "markdown",
   "metadata": {},
   "source": [
    "[A Beginner's Guide to the Data Science Pipeline](https://towardsdatascience.com/a-beginners-guide-to-the-data-science-pipeline-a4904b2d8ad3)\n",
    "\n",
    "This article provides the general pipeline model, i.e., work flow, for data scientists. The author generalized it into an acronym, \"O.S.E.M.N.\", which is short for \"Obtaining - Srubbing/Cleaning - Exploring/Visualizing - Modeling - Interpreting Data\".\n",
    "\n",
    "\n",
    "\n",
    "[How to Learn Data Science for Free](https://towardsdatascience.com/how-to-learn-data-science-for-free-eda10f04d083)\n",
    "\n",
    "This article provides a rich collection of free online resources for data science self study."
   ]
  },
  {
   "cell_type": "markdown",
   "metadata": {},
   "source": [
    "To look for general Python programming information, jump to the notebook below.    \n",
    "[Python Coding Tips](Python_Coding_Tips.ipynb)\n",
    "\n",
    "To look for general Pandas programming tips, jump to the notebook below.  \n",
    "[Pands_Coding_Tips](Pands_Coding_Tips.ipynb)"
   ]
  },
  {
   "cell_type": "markdown",
   "metadata": {},
   "source": [
    "<a name=\"end\"></a>\n",
    "## End of Notebook\n",
    "[Back](#toc)"
   ]
  },
  {
   "cell_type": "code",
   "execution_count": null,
   "metadata": {},
   "outputs": [],
   "source": []
  }
 ],
 "metadata": {
  "kernelspec": {
   "display_name": "Python 3",
   "language": "python",
   "name": "python3"
  },
  "language_info": {
   "codemirror_mode": {
    "name": "ipython",
    "version": 3
   },
   "file_extension": ".py",
   "mimetype": "text/x-python",
   "name": "python",
   "nbconvert_exporter": "python",
   "pygments_lexer": "ipython3",
   "version": "3.6.6"
  }
 },
 "nbformat": 4,
 "nbformat_minor": 2
}
